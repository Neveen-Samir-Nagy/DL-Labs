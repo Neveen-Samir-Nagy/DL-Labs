{
  "nbformat": 4,
  "nbformat_minor": 0,
  "metadata": {
    "colab": {
      "name": "RL.ipynb",
      "provenance": [],
      "collapsed_sections": [
        "jrI6q7RmWQam"
      ]
    },
    "kernelspec": {
      "name": "python3",
      "display_name": "Python 3"
    },
    "accelerator": "GPU"
  },
  "cells": [
    {
      "cell_type": "markdown",
      "metadata": {
        "id": "jrI6q7RmWQam"
      },
      "source": [
        "<table align=\"center\">\n",
        "  <td align=\"center\"><a target=\"_blank\" href=\"https://colab.research.google.com/github/KhaledElTahan/DeepLearning/blob/master/Labs/lab6/lab6.ipynb\">\n",
        "        <img src=\"http://introtodeeplearning.com/images/colab/colab.png?v2.0\"  style=\"padding-bottom:5px;\" />Run in Google Colab</a></td>\n",
        "</table>"
      ]
    },
    {
      "cell_type": "markdown",
      "metadata": {
        "id": "iHvW3OJaV41o"
      },
      "source": [
        "# Copyright Information\n",
        "**This lab is based on MIT Deep Learning Lab.**"
      ]
    },
    {
      "cell_type": "markdown",
      "metadata": {
        "id": "WoXYKhfZMHiw"
      },
      "source": [
        "# Lab 6: Cartpole - Reinforcement Learning\n",
        "\n",
        "Reinforcement learning (RL) is a subset of machine learning which poses learning problems as interactions between agents and environments. It often assumes agents have no prior knowledge of a world, so they must learn to navigate environments by optimizing a reward function. Within an environment, an agent can take certain actions and receive feedback, in the form of positive or negative rewards, with respect to their decision. As such, an agent's feedback loop is somewhat akin to the idea of \"trial and error\", or the manner in which a child might learn to distinguish between \"good\" and \"bad\" actions.\n",
        "\n",
        "In practical terms, our RL agent will interact with the environment by taking an action at each timestep, receiving a corresponding reward, and updating its state according to what it has \"learned\".  \n",
        "\n",
        "![alt text](https://www.kdnuggets.com/images/reinforcement-learning-fig1-700.jpg)\n",
        "\n",
        "While the ultimate goal of reinforcement learning is to teach agents to act in the real, physical world, games provide a convenient proving ground for developing RL algorithms and agents. Games have some properties that make them particularly well suited for RL: \n",
        "\n",
        "1.   In many cases, games have perfectly describable environments. For example, all rules of chess can be formally written and programmed into a chess game simulator;\n",
        "2.   Games are massively parallelizable. Since they do not require running in the real world, simultaneous environments can be run on large data clusters; \n",
        "3.   Simpler scenarios in games enable fast prototyping. This speeds up the development of algorithms that could eventually run in the real-world; and\n",
        "4.   ... Games are fun! \n",
        "\n",
        "In previous labs, we have explored supervised learning (with RNNs, CNNs). Reinforcement learning is fundamentally different, in that we are training a deep learning algorithm to govern the actions of our RL agent, that is trying, within its environment, to find the optimal way to achieve a goal. The goal of training an RL agent is to determine the best next step to take to earn the greatest final payoff or return. In this lab, we focus on building a reinforcement learning algorithm to master a cartpole environments in which Balance a pole, protruding from a cart, in an upright position by only moving the base left or right. Environment with a low-dimensional observation space.\n",
        "\n",
        "\n",
        "Let's get started! First we'll import TensorFlow, the course package, and some dependencies.\n"
      ]
    },
    {
      "cell_type": "code",
      "metadata": {
        "id": "EvdePP-VyVWp",
        "outputId": "321574ea-c714-46ad-c38e-c80a3d7190d1",
        "colab": {
          "base_uri": "https://localhost:8080/"
        }
      },
      "source": [
        "#Install some dependencies for visualizing the agents\n",
        "!apt-get install -y xvfb python-opengl x11-utils > /dev/null 2>&1\n",
        "!pip install gym pyvirtualdisplay scikit-video > /dev/null 2>&1\n",
        "\n",
        "# Import Tensorflow 2.0\n",
        "%tensorflow_version 2.x\n",
        "import tensorflow as tf\n",
        "\n",
        "import numpy as np\n",
        "import base64, io, time, gym\n",
        "import IPython, functools\n",
        "import matplotlib.pyplot as plt\n",
        "import time\n",
        "from tqdm import tqdm\n",
        "\n",
        "# Download and import the MIT 6.S191 package\n",
        "!pip install mitdeeplearning\n",
        "import mitdeeplearning as mdl"
      ],
      "execution_count": 1,
      "outputs": [
        {
          "output_type": "stream",
          "text": [
            "Collecting mitdeeplearning\n",
            "\u001b[?25l  Downloading https://files.pythonhosted.org/packages/9d/ad/650eb53c0d9d1213536fe94bc150f89b564ff5ee784bd662272584bb091b/mitdeeplearning-0.2.0.tar.gz (2.1MB)\n",
            "\r\u001b[K     |▏                               | 10kB 22.3MB/s eta 0:00:01\r\u001b[K     |▎                               | 20kB 30.2MB/s eta 0:00:01\r\u001b[K     |▌                               | 30kB 35.7MB/s eta 0:00:01\r\u001b[K     |▋                               | 40kB 26.5MB/s eta 0:00:01\r\u001b[K     |▉                               | 51kB 26.9MB/s eta 0:00:01\r\u001b[K     |█                               | 61kB 28.4MB/s eta 0:00:01\r\u001b[K     |█                               | 71kB 29.3MB/s eta 0:00:01\r\u001b[K     |█▎                              | 81kB 26.2MB/s eta 0:00:01\r\u001b[K     |█▍                              | 92kB 26.7MB/s eta 0:00:01\r\u001b[K     |█▋                              | 102kB 20.8MB/s eta 0:00:01\r\u001b[K     |█▊                              | 112kB 20.8MB/s eta 0:00:01\r\u001b[K     |█▉                              | 122kB 20.8MB/s eta 0:00:01\r\u001b[K     |██                              | 133kB 20.8MB/s eta 0:00:01\r\u001b[K     |██▏                             | 143kB 20.8MB/s eta 0:00:01\r\u001b[K     |██▍                             | 153kB 20.8MB/s eta 0:00:01\r\u001b[K     |██▌                             | 163kB 20.8MB/s eta 0:00:01\r\u001b[K     |██▋                             | 174kB 20.8MB/s eta 0:00:01\r\u001b[K     |██▉                             | 184kB 20.8MB/s eta 0:00:01\r\u001b[K     |███                             | 194kB 20.8MB/s eta 0:00:01\r\u001b[K     |███▏                            | 204kB 20.8MB/s eta 0:00:01\r\u001b[K     |███▎                            | 215kB 20.8MB/s eta 0:00:01\r\u001b[K     |███▌                            | 225kB 20.8MB/s eta 0:00:01\r\u001b[K     |███▋                            | 235kB 20.8MB/s eta 0:00:01\r\u001b[K     |███▊                            | 245kB 20.8MB/s eta 0:00:01\r\u001b[K     |████                            | 256kB 20.8MB/s eta 0:00:01\r\u001b[K     |████                            | 266kB 20.8MB/s eta 0:00:01\r\u001b[K     |████▎                           | 276kB 20.8MB/s eta 0:00:01\r\u001b[K     |████▍                           | 286kB 20.8MB/s eta 0:00:01\r\u001b[K     |████▌                           | 296kB 20.8MB/s eta 0:00:01\r\u001b[K     |████▊                           | 307kB 20.8MB/s eta 0:00:01\r\u001b[K     |████▉                           | 317kB 20.8MB/s eta 0:00:01\r\u001b[K     |█████                           | 327kB 20.8MB/s eta 0:00:01\r\u001b[K     |█████▏                          | 337kB 20.8MB/s eta 0:00:01\r\u001b[K     |█████▎                          | 348kB 20.8MB/s eta 0:00:01\r\u001b[K     |█████▌                          | 358kB 20.8MB/s eta 0:00:01\r\u001b[K     |█████▋                          | 368kB 20.8MB/s eta 0:00:01\r\u001b[K     |█████▉                          | 378kB 20.8MB/s eta 0:00:01\r\u001b[K     |██████                          | 389kB 20.8MB/s eta 0:00:01\r\u001b[K     |██████▏                         | 399kB 20.8MB/s eta 0:00:01\r\u001b[K     |██████▎                         | 409kB 20.8MB/s eta 0:00:01\r\u001b[K     |██████▍                         | 419kB 20.8MB/s eta 0:00:01\r\u001b[K     |██████▋                         | 430kB 20.8MB/s eta 0:00:01\r\u001b[K     |██████▊                         | 440kB 20.8MB/s eta 0:00:01\r\u001b[K     |███████                         | 450kB 20.8MB/s eta 0:00:01\r\u001b[K     |███████                         | 460kB 20.8MB/s eta 0:00:01\r\u001b[K     |███████▏                        | 471kB 20.8MB/s eta 0:00:01\r\u001b[K     |███████▍                        | 481kB 20.8MB/s eta 0:00:01\r\u001b[K     |███████▌                        | 491kB 20.8MB/s eta 0:00:01\r\u001b[K     |███████▊                        | 501kB 20.8MB/s eta 0:00:01\r\u001b[K     |███████▉                        | 512kB 20.8MB/s eta 0:00:01\r\u001b[K     |████████                        | 522kB 20.8MB/s eta 0:00:01\r\u001b[K     |████████▏                       | 532kB 20.8MB/s eta 0:00:01\r\u001b[K     |████████▎                       | 542kB 20.8MB/s eta 0:00:01\r\u001b[K     |████████▌                       | 552kB 20.8MB/s eta 0:00:01\r\u001b[K     |████████▋                       | 563kB 20.8MB/s eta 0:00:01\r\u001b[K     |████████▉                       | 573kB 20.8MB/s eta 0:00:01\r\u001b[K     |█████████                       | 583kB 20.8MB/s eta 0:00:01\r\u001b[K     |█████████                       | 593kB 20.8MB/s eta 0:00:01\r\u001b[K     |█████████▎                      | 604kB 20.8MB/s eta 0:00:01\r\u001b[K     |█████████▍                      | 614kB 20.8MB/s eta 0:00:01\r\u001b[K     |█████████▋                      | 624kB 20.8MB/s eta 0:00:01\r\u001b[K     |█████████▊                      | 634kB 20.8MB/s eta 0:00:01\r\u001b[K     |█████████▉                      | 645kB 20.8MB/s eta 0:00:01\r\u001b[K     |██████████                      | 655kB 20.8MB/s eta 0:00:01\r\u001b[K     |██████████▏                     | 665kB 20.8MB/s eta 0:00:01\r\u001b[K     |██████████▍                     | 675kB 20.8MB/s eta 0:00:01\r\u001b[K     |██████████▌                     | 686kB 20.8MB/s eta 0:00:01\r\u001b[K     |██████████▋                     | 696kB 20.8MB/s eta 0:00:01\r\u001b[K     |██████████▉                     | 706kB 20.8MB/s eta 0:00:01\r\u001b[K     |███████████                     | 716kB 20.8MB/s eta 0:00:01\r\u001b[K     |███████████▏                    | 727kB 20.8MB/s eta 0:00:01\r\u001b[K     |███████████▎                    | 737kB 20.8MB/s eta 0:00:01\r\u001b[K     |███████████▍                    | 747kB 20.8MB/s eta 0:00:01\r\u001b[K     |███████████▋                    | 757kB 20.8MB/s eta 0:00:01\r\u001b[K     |███████████▊                    | 768kB 20.8MB/s eta 0:00:01\r\u001b[K     |████████████                    | 778kB 20.8MB/s eta 0:00:01\r\u001b[K     |████████████                    | 788kB 20.8MB/s eta 0:00:01\r\u001b[K     |████████████▎                   | 798kB 20.8MB/s eta 0:00:01\r\u001b[K     |████████████▍                   | 808kB 20.8MB/s eta 0:00:01\r\u001b[K     |████████████▌                   | 819kB 20.8MB/s eta 0:00:01\r\u001b[K     |████████████▊                   | 829kB 20.8MB/s eta 0:00:01\r\u001b[K     |████████████▉                   | 839kB 20.8MB/s eta 0:00:01\r\u001b[K     |█████████████                   | 849kB 20.8MB/s eta 0:00:01\r\u001b[K     |█████████████▏                  | 860kB 20.8MB/s eta 0:00:01\r\u001b[K     |█████████████▎                  | 870kB 20.8MB/s eta 0:00:01\r\u001b[K     |█████████████▌                  | 880kB 20.8MB/s eta 0:00:01\r\u001b[K     |█████████████▋                  | 890kB 20.8MB/s eta 0:00:01\r\u001b[K     |█████████████▉                  | 901kB 20.8MB/s eta 0:00:01\r\u001b[K     |██████████████                  | 911kB 20.8MB/s eta 0:00:01\r\u001b[K     |██████████████                  | 921kB 20.8MB/s eta 0:00:01\r\u001b[K     |██████████████▎                 | 931kB 20.8MB/s eta 0:00:01\r\u001b[K     |██████████████▍                 | 942kB 20.8MB/s eta 0:00:01\r\u001b[K     |██████████████▋                 | 952kB 20.8MB/s eta 0:00:01\r\u001b[K     |██████████████▊                 | 962kB 20.8MB/s eta 0:00:01\r\u001b[K     |███████████████                 | 972kB 20.8MB/s eta 0:00:01\r\u001b[K     |███████████████                 | 983kB 20.8MB/s eta 0:00:01\r\u001b[K     |███████████████▏                | 993kB 20.8MB/s eta 0:00:01\r\u001b[K     |███████████████▍                | 1.0MB 20.8MB/s eta 0:00:01\r\u001b[K     |███████████████▌                | 1.0MB 20.8MB/s eta 0:00:01\r\u001b[K     |███████████████▊                | 1.0MB 20.8MB/s eta 0:00:01\r\u001b[K     |███████████████▉                | 1.0MB 20.8MB/s eta 0:00:01\r\u001b[K     |████████████████                | 1.0MB 20.8MB/s eta 0:00:01\r\u001b[K     |████████████████▏               | 1.1MB 20.8MB/s eta 0:00:01\r\u001b[K     |████████████████▎               | 1.1MB 20.8MB/s eta 0:00:01\r\u001b[K     |████████████████▌               | 1.1MB 20.8MB/s eta 0:00:01\r\u001b[K     |████████████████▋               | 1.1MB 20.8MB/s eta 0:00:01\r\u001b[K     |████████████████▊               | 1.1MB 20.8MB/s eta 0:00:01\r\u001b[K     |█████████████████               | 1.1MB 20.8MB/s eta 0:00:01\r\u001b[K     |█████████████████               | 1.1MB 20.8MB/s eta 0:00:01\r\u001b[K     |█████████████████▎              | 1.1MB 20.8MB/s eta 0:00:01\r\u001b[K     |█████████████████▍              | 1.1MB 20.8MB/s eta 0:00:01\r\u001b[K     |█████████████████▋              | 1.1MB 20.8MB/s eta 0:00:01\r\u001b[K     |█████████████████▊              | 1.2MB 20.8MB/s eta 0:00:01\r\u001b[K     |█████████████████▉              | 1.2MB 20.8MB/s eta 0:00:01\r\u001b[K     |██████████████████              | 1.2MB 20.8MB/s eta 0:00:01\r\u001b[K     |██████████████████▏             | 1.2MB 20.8MB/s eta 0:00:01\r\u001b[K     |██████████████████▍             | 1.2MB 20.8MB/s eta 0:00:01\r\u001b[K     |██████████████████▌             | 1.2MB 20.8MB/s eta 0:00:01\r\u001b[K     |██████████████████▋             | 1.2MB 20.8MB/s eta 0:00:01\r\u001b[K     |██████████████████▉             | 1.2MB 20.8MB/s eta 0:00:01\r\u001b[K     |███████████████████             | 1.2MB 20.8MB/s eta 0:00:01\r\u001b[K     |███████████████████▏            | 1.2MB 20.8MB/s eta 0:00:01\r\u001b[K     |███████████████████▎            | 1.3MB 20.8MB/s eta 0:00:01\r\u001b[K     |███████████████████▍            | 1.3MB 20.8MB/s eta 0:00:01\r\u001b[K     |███████████████████▋            | 1.3MB 20.8MB/s eta 0:00:01\r\u001b[K     |███████████████████▊            | 1.3MB 20.8MB/s eta 0:00:01\r\u001b[K     |████████████████████            | 1.3MB 20.8MB/s eta 0:00:01\r\u001b[K     |████████████████████            | 1.3MB 20.8MB/s eta 0:00:01\r\u001b[K     |████████████████████▎           | 1.3MB 20.8MB/s eta 0:00:01\r\u001b[K     |████████████████████▍           | 1.3MB 20.8MB/s eta 0:00:01\r\u001b[K     |████████████████████▌           | 1.3MB 20.8MB/s eta 0:00:01\r\u001b[K     |████████████████████▊           | 1.4MB 20.8MB/s eta 0:00:01\r\u001b[K     |████████████████████▉           | 1.4MB 20.8MB/s eta 0:00:01\r\u001b[K     |█████████████████████           | 1.4MB 20.8MB/s eta 0:00:01\r\u001b[K     |█████████████████████▏          | 1.4MB 20.8MB/s eta 0:00:01\r\u001b[K     |█████████████████████▎          | 1.4MB 20.8MB/s eta 0:00:01\r\u001b[K     |█████████████████████▌          | 1.4MB 20.8MB/s eta 0:00:01\r\u001b[K     |█████████████████████▋          | 1.4MB 20.8MB/s eta 0:00:01\r\u001b[K     |█████████████████████▉          | 1.4MB 20.8MB/s eta 0:00:01\r\u001b[K     |██████████████████████          | 1.4MB 20.8MB/s eta 0:00:01\r\u001b[K     |██████████████████████          | 1.4MB 20.8MB/s eta 0:00:01\r\u001b[K     |██████████████████████▎         | 1.5MB 20.8MB/s eta 0:00:01\r\u001b[K     |██████████████████████▍         | 1.5MB 20.8MB/s eta 0:00:01\r\u001b[K     |██████████████████████▋         | 1.5MB 20.8MB/s eta 0:00:01\r\u001b[K     |██████████████████████▊         | 1.5MB 20.8MB/s eta 0:00:01\r\u001b[K     |██████████████████████▉         | 1.5MB 20.8MB/s eta 0:00:01\r\u001b[K     |███████████████████████         | 1.5MB 20.8MB/s eta 0:00:01\r\u001b[K     |███████████████████████▏        | 1.5MB 20.8MB/s eta 0:00:01\r\u001b[K     |███████████████████████▍        | 1.5MB 20.8MB/s eta 0:00:01\r\u001b[K     |███████████████████████▌        | 1.5MB 20.8MB/s eta 0:00:01\r\u001b[K     |███████████████████████▊        | 1.5MB 20.8MB/s eta 0:00:01\r\u001b[K     |███████████████████████▉        | 1.6MB 20.8MB/s eta 0:00:01\r\u001b[K     |████████████████████████        | 1.6MB 20.8MB/s eta 0:00:01\r\u001b[K     |████████████████████████▏       | 1.6MB 20.8MB/s eta 0:00:01\r\u001b[K     |████████████████████████▎       | 1.6MB 20.8MB/s eta 0:00:01\r\u001b[K     |████████████████████████▌       | 1.6MB 20.8MB/s eta 0:00:01\r\u001b[K     |████████████████████████▋       | 1.6MB 20.8MB/s eta 0:00:01\r\u001b[K     |████████████████████████▊       | 1.6MB 20.8MB/s eta 0:00:01\r\u001b[K     |█████████████████████████       | 1.6MB 20.8MB/s eta 0:00:01\r\u001b[K     |█████████████████████████       | 1.6MB 20.8MB/s eta 0:00:01\r\u001b[K     |█████████████████████████▎      | 1.6MB 20.8MB/s eta 0:00:01\r\u001b[K     |█████████████████████████▍      | 1.7MB 20.8MB/s eta 0:00:01\r\u001b[K     |█████████████████████████▌      | 1.7MB 20.8MB/s eta 0:00:01\r\u001b[K     |█████████████████████████▊      | 1.7MB 20.8MB/s eta 0:00:01\r\u001b[K     |█████████████████████████▉      | 1.7MB 20.8MB/s eta 0:00:01\r\u001b[K     |██████████████████████████      | 1.7MB 20.8MB/s eta 0:00:01\r\u001b[K     |██████████████████████████▏     | 1.7MB 20.8MB/s eta 0:00:01\r\u001b[K     |██████████████████████████▍     | 1.7MB 20.8MB/s eta 0:00:01\r\u001b[K     |██████████████████████████▌     | 1.7MB 20.8MB/s eta 0:00:01\r\u001b[K     |██████████████████████████▋     | 1.7MB 20.8MB/s eta 0:00:01\r\u001b[K     |██████████████████████████▉     | 1.8MB 20.8MB/s eta 0:00:01\r\u001b[K     |███████████████████████████     | 1.8MB 20.8MB/s eta 0:00:01\r\u001b[K     |███████████████████████████▏    | 1.8MB 20.8MB/s eta 0:00:01\r\u001b[K     |███████████████████████████▎    | 1.8MB 20.8MB/s eta 0:00:01\r\u001b[K     |███████████████████████████▍    | 1.8MB 20.8MB/s eta 0:00:01\r\u001b[K     |███████████████████████████▋    | 1.8MB 20.8MB/s eta 0:00:01\r\u001b[K     |███████████████████████████▊    | 1.8MB 20.8MB/s eta 0:00:01\r\u001b[K     |████████████████████████████    | 1.8MB 20.8MB/s eta 0:00:01\r\u001b[K     |████████████████████████████    | 1.8MB 20.8MB/s eta 0:00:01\r\u001b[K     |████████████████████████████▏   | 1.8MB 20.8MB/s eta 0:00:01\r\u001b[K     |████████████████████████████▍   | 1.9MB 20.8MB/s eta 0:00:01\r\u001b[K     |████████████████████████████▌   | 1.9MB 20.8MB/s eta 0:00:01\r\u001b[K     |████████████████████████████▊   | 1.9MB 20.8MB/s eta 0:00:01\r\u001b[K     |████████████████████████████▉   | 1.9MB 20.8MB/s eta 0:00:01\r\u001b[K     |█████████████████████████████   | 1.9MB 20.8MB/s eta 0:00:01\r\u001b[K     |█████████████████████████████▏  | 1.9MB 20.8MB/s eta 0:00:01\r\u001b[K     |█████████████████████████████▎  | 1.9MB 20.8MB/s eta 0:00:01\r\u001b[K     |█████████████████████████████▌  | 1.9MB 20.8MB/s eta 0:00:01\r\u001b[K     |█████████████████████████████▋  | 1.9MB 20.8MB/s eta 0:00:01\r\u001b[K     |█████████████████████████████▉  | 1.9MB 20.8MB/s eta 0:00:01\r\u001b[K     |██████████████████████████████  | 2.0MB 20.8MB/s eta 0:00:01\r\u001b[K     |██████████████████████████████  | 2.0MB 20.8MB/s eta 0:00:01\r\u001b[K     |██████████████████████████████▎ | 2.0MB 20.8MB/s eta 0:00:01\r\u001b[K     |██████████████████████████████▍ | 2.0MB 20.8MB/s eta 0:00:01\r\u001b[K     |██████████████████████████████▋ | 2.0MB 20.8MB/s eta 0:00:01\r\u001b[K     |██████████████████████████████▊ | 2.0MB 20.8MB/s eta 0:00:01\r\u001b[K     |██████████████████████████████▉ | 2.0MB 20.8MB/s eta 0:00:01\r\u001b[K     |███████████████████████████████ | 2.0MB 20.8MB/s eta 0:00:01\r\u001b[K     |███████████████████████████████▏| 2.0MB 20.8MB/s eta 0:00:01\r\u001b[K     |███████████████████████████████▍| 2.0MB 20.8MB/s eta 0:00:01\r\u001b[K     |███████████████████████████████▌| 2.1MB 20.8MB/s eta 0:00:01\r\u001b[K     |███████████████████████████████▊| 2.1MB 20.8MB/s eta 0:00:01\r\u001b[K     |███████████████████████████████▉| 2.1MB 20.8MB/s eta 0:00:01\r\u001b[K     |████████████████████████████████| 2.1MB 20.8MB/s eta 0:00:01\r\u001b[K     |████████████████████████████████| 2.1MB 20.8MB/s \n",
            "\u001b[?25hRequirement already satisfied: numpy in /usr/local/lib/python3.7/dist-packages (from mitdeeplearning) (1.19.5)\n",
            "Requirement already satisfied: regex in /usr/local/lib/python3.7/dist-packages (from mitdeeplearning) (2019.12.20)\n",
            "Requirement already satisfied: tqdm in /usr/local/lib/python3.7/dist-packages (from mitdeeplearning) (4.41.1)\n",
            "Requirement already satisfied: gym in /usr/local/lib/python3.7/dist-packages (from mitdeeplearning) (0.17.3)\n",
            "Requirement already satisfied: pyglet<=1.5.0,>=1.4.0 in /usr/local/lib/python3.7/dist-packages (from gym->mitdeeplearning) (1.5.0)\n",
            "Requirement already satisfied: cloudpickle<1.7.0,>=1.2.0 in /usr/local/lib/python3.7/dist-packages (from gym->mitdeeplearning) (1.3.0)\n",
            "Requirement already satisfied: scipy in /usr/local/lib/python3.7/dist-packages (from gym->mitdeeplearning) (1.4.1)\n",
            "Requirement already satisfied: future in /usr/local/lib/python3.7/dist-packages (from pyglet<=1.5.0,>=1.4.0->gym->mitdeeplearning) (0.16.0)\n",
            "Building wheels for collected packages: mitdeeplearning\n",
            "  Building wheel for mitdeeplearning (setup.py) ... \u001b[?25l\u001b[?25hdone\n",
            "  Created wheel for mitdeeplearning: filename=mitdeeplearning-0.2.0-cp37-none-any.whl size=2115442 sha256=3f4b33c55f579fee285cc6131ec88591617970b677c978b5dc1dc7f301ab076d\n",
            "  Stored in directory: /root/.cache/pip/wheels/af/dc/2a/5c3633135e7e4ef4fd31463cfa1942cb1bae7486ab94e7a2ad\n",
            "Successfully built mitdeeplearning\n",
            "Installing collected packages: mitdeeplearning\n",
            "Successfully installed mitdeeplearning-0.2.0\n"
          ],
          "name": "stdout"
        }
      ]
    },
    {
      "cell_type": "markdown",
      "metadata": {
        "id": "zmrHSiXKTXTY"
      },
      "source": [
        "Before we dive in, let's take a step back and outline our approach, which is generally applicable to reinforcement learning problems in general:\n",
        "\n",
        "1. **Initialize our environment and our agent**: here we will describe the different observations and actions the agent can make in the environemnt.\n",
        "2. **Define our agent's memory**: this will enable the agent to remember its past actions, observations, and rewards.\n",
        "3. **Define a reward function**: describes the reward associated with an action or sequence of actions.\n",
        "4. **Define the learning algorithm**: this will be used to reinforce the agent's good behaviors and discourage bad behaviors.\n"
      ]
    },
    {
      "cell_type": "markdown",
      "metadata": {
        "id": "UT7YL8KBJIIc"
      },
      "source": [
        "## 6.1 Define the Cartpole environment and agent\n",
        "\n",
        "### Environment \n",
        "\n",
        "In order to model the environment for both the Cartpole and Pong tasks, we'll be using a toolkit developed by OpenAI called [OpenAI Gym](https://gym.openai.com/). It provides several pre-defined environments for training and testing reinforcement learning agents, including those for classic physics control tasks, Atari video games, and robotic simulations. To access the Cartpole environment, we can use `env = gym.make(\"CartPole-v0\")`, which we gained access to when we imported the `gym` package. We can instantiate different [environments](https://gym.openai.com/envs/#classic_control) by passing the enivronment name to the `make` function.\n",
        "\n",
        "One issue we might experience when developing RL algorithms is that many aspects of the learning process are inherently random: initializing game states, changes in the environment, and the agent's actions. As such, it can be helpful to set a initial \"seed\" for the environment to ensure some level of reproducibility. Much like you might use `numpy.random.seed`, we can call the comparable function in gym, `seed`, with our defined environment to ensure the environment's random variables are initialized the same each time."
      ]
    },
    {
      "cell_type": "code",
      "metadata": {
        "id": "quv9SC0iIYFm",
        "outputId": "80c36714-8bd6-44de-d438-729f48487d28",
        "colab": {
          "base_uri": "https://localhost:8080/"
        }
      },
      "source": [
        "### Instantiate the Cartpole environment ###\n",
        "\n",
        "env = gym.make(\"CartPole-v0\")\n",
        "env.seed(1)"
      ],
      "execution_count": 2,
      "outputs": [
        {
          "output_type": "execute_result",
          "data": {
            "text/plain": [
              "[1]"
            ]
          },
          "metadata": {
            "tags": []
          },
          "execution_count": 2
        }
      ]
    },
    {
      "cell_type": "markdown",
      "metadata": {
        "id": "mhEITUcKK455"
      },
      "source": [
        "In Cartpole, a pole is attached by an un-actuated joint to a cart, which moves along a frictionless track. The pole starts upright, and the goal is to prevent it from falling over. The system is controlled by applying a force of +1 or -1 to the cart. A reward of +1 is provided for every timestep that the pole remains upright. The episode ends when the pole is more than 15 degrees from vertical, or the cart moves more than 2.4 units from the center of the track. A visual summary of the cartpole environment is depicted below:\n",
        "\n",
        "<img width=\"400px\" src=\"https://danielpiedrahita.files.wordpress.com/2017/02/cart-pole.png\"></img>\n",
        "\n",
        "Given this setup for the environment and the objective of the game, we can think about: 1) what observations help define the environment's state; 2) what actions the agent can take. \n",
        "\n",
        "First, let's consider the observation space. In this Cartpole environment our observations are:\n",
        "\n",
        "1. Cart position\n",
        "2. Cart velocity\n",
        "3. Pole angle\n",
        "4. Pole rotation rate\n",
        "\n",
        "We can confirm the size of the space by querying the environment's observation space:\n"
      ]
    },
    {
      "cell_type": "code",
      "metadata": {
        "id": "UVJaEcbdIX82",
        "outputId": "d2a62190-436a-401f-c433-352b5c5c5a2b",
        "colab": {
          "base_uri": "https://localhost:8080/"
        }
      },
      "source": [
        "n_observations = env.observation_space\n",
        "print(\"Environment has observation space =\", n_observations)"
      ],
      "execution_count": 3,
      "outputs": [
        {
          "output_type": "stream",
          "text": [
            "Environment has observation space = Box(-3.4028234663852886e+38, 3.4028234663852886e+38, (4,), float32)\n"
          ],
          "name": "stdout"
        }
      ]
    },
    {
      "cell_type": "markdown",
      "metadata": {
        "id": "ZibGgjrALgPM"
      },
      "source": [
        "Second, we consider the action space. At every time step, the agent can move either right or left. Again we can confirm the size of the action space by querying the environment:"
      ]
    },
    {
      "cell_type": "code",
      "metadata": {
        "id": "qc9SIPxBIXrm",
        "outputId": "a562cba8-e2c3-4195-c6fc-d35176d06365",
        "colab": {
          "base_uri": "https://localhost:8080/"
        }
      },
      "source": [
        "n_actions = env.action_space.n\n",
        "print(\"Number of possible actions that the agent can choose from =\", n_actions)"
      ],
      "execution_count": 4,
      "outputs": [
        {
          "output_type": "stream",
          "text": [
            "Number of possible actions that the agent can choose from = 2\n"
          ],
          "name": "stdout"
        }
      ]
    },
    {
      "cell_type": "markdown",
      "metadata": {
        "id": "pPfHME8aRKkb"
      },
      "source": [
        "### Cartpole agent\n",
        "\n",
        "Now that we have instantiated the environment and understood the dimensionality of the observation and action spaces, we are ready to define our agent. In deep reinforcement learning, a deep neural network defines the agent. This network will take as input an observation of the environment and output the probability of taking each of the possible actions. Since Cartpole is defined by a low-dimensional observation space, a simple feed-forward neural network should work well for our agent. We will define this using the `Sequential` API.\n",
        "\n",
        "**Important Note**: You need to remove the TODO comment from the model definition to avoid the syntax error.\n"
      ]
    },
    {
      "cell_type": "code",
      "metadata": {
        "id": "W-o_XK4oQ4eu"
      },
      "source": [
        "### Define the Cartpole agent ###\n",
        "\n",
        "# Defines a feed-forward neural network\n",
        "def create_cartpole_model():\n",
        "  model = tf.keras.models.Sequential([\n",
        "      # First Dense layer\n",
        "      tf.keras.layers.Dense(units=32, activation='relu'),\n",
        "      tf.keras.layers.Dense(units= n_actions)\n",
        "  ])\n",
        "  return model\n",
        "\n",
        "cartpole_model = create_cartpole_model()"
      ],
      "execution_count": 8,
      "outputs": []
    },
    {
      "cell_type": "markdown",
      "metadata": {
        "id": "d5D5NSIYS2IW"
      },
      "source": [
        "Now that we have defined the core network architecture, we will define an *action function* that executes a forward pass through the network, given a set of observations, and samples from the output. This sampling from the output probabilities will be used to select the next action for the agent. We will also add support so that the `choose_action` function can handle either a single observation or a batch of observations.\n",
        "\n",
        "**Critically, this action function is totally general and is applicable to other RL tasks, as well!**"
      ]
    },
    {
      "cell_type": "code",
      "metadata": {
        "id": "E_vVZRr8Q4R_"
      },
      "source": [
        "### Define the agent's action function ###\n",
        "\n",
        "# Function that takes observations as input, executes a forward pass through model, \n",
        "#   and outputs a sampled action.\n",
        "# Arguments:\n",
        "#   model: the network that defines our agent\n",
        "#   observation: observation(s) which is/are fed as input to the model\n",
        "#   single: flag as to whether we are handling a single observation or batch of\n",
        "#     observations, provided as an np.array\n",
        "# Returns:\n",
        "#   action: choice of agent action\n",
        "def choose_action(model, observation, single=True):\n",
        "  # add batch dimension to the observation if only a single example was provided\n",
        "  observation = np.expand_dims(observation, axis=0) if single else observation\n",
        "\n",
        "  '''TODO: feed the observations through the model to predict the log \n",
        "  probabilities of each possible action.'''\n",
        "  logits = model.predict(observation)\n",
        "  \n",
        "  # Choose an action from the categorical distribution defined by the log \n",
        "  #     probabilities of each possible action.\n",
        "  action = tf.random.categorical(logits, num_samples=1)\n",
        "\n",
        "  action = action.numpy().flatten()\n",
        "\n",
        "  return action[0] if single else action"
      ],
      "execution_count": 9,
      "outputs": []
    },
    {
      "cell_type": "markdown",
      "metadata": {
        "id": "_tR9uAWcTnkr"
      },
      "source": [
        "## 6.2 Define the agent's memory\n",
        "\n",
        "Now that we have instantiated the environment and defined the agent network architecture and action function, we are ready to move on to the next step in our RL workflow:\n",
        "1. **Initialize our environment and our agent**: here we will describe the different observations and actions the agent can make in the environemnt.\n",
        "2. **Define our agent's memory**: this will enable the agent to remember its past actions, observations, and rewards.\n",
        "3. **Define the learning algorithm**: this will be used to reinforce the agent's good behaviors and discourage bad behaviors.\n",
        "\n",
        "In reinforcement learning, training occurs alongside the agent's acting in the environment; an *episode* refers to a sequence of actions that ends in some terminal state, such as the pole falling down or the cart crashing. The agent will need to remember all of its observations and actions, such that once an episode ends, it can learn to \"reinforce\" the good actions and punish the undesirable actions via training. Our first step is to define a simple `Memory` buffer that contains the agent's observations, actions, and received rewards from a given episode. We will also add support to combine a list of `Memory` objects into a single `Memory`. This will be very useful for batching, which will help you accelerate training later on in the lab.\n",
        "\n",
        "**Once again, note the modularity of this memory buffer -- it can and will be applied to other RL tasks as well!**"
      ]
    },
    {
      "cell_type": "code",
      "metadata": {
        "id": "8MM6JwXVQ4JG"
      },
      "source": [
        "### Agent Memory ###\n",
        "\n",
        "class Memory:\n",
        "  def __init__(self): \n",
        "      self.clear()\n",
        "\n",
        "  # Resets/restarts the memory buffer\n",
        "  def clear(self): \n",
        "      self.observations = []\n",
        "      self.actions = []\n",
        "      self.rewards = []\n",
        "\n",
        "  # Add observations, actions, rewards to memory\n",
        "  def add_to_memory(self, new_observation, new_action, new_reward): \n",
        "      self.observations.append(new_observation)\n",
        "\n",
        "      '''TODO: update the list of actions with new action'''\n",
        "      # TODO: your update code here\n",
        "      self.actions.append(new_action)\n",
        "\n",
        "      '''TODO: update the list of rewards with new reward'''\n",
        "      # TODO: your update code here\n",
        "      self.rewards.append(new_reward)\n",
        "\n",
        "# Helper function to combine a list of Memory objects into a single Memory.\n",
        "#     This will be very useful for batching.\n",
        "def aggregate_memories(memories):\n",
        "  batch_memory = Memory()\n",
        "  \n",
        "  for memory in memories:\n",
        "    for step in zip(memory.observations, memory.actions, memory.rewards):\n",
        "      batch_memory.add_to_memory(*step)\n",
        "  \n",
        "  return batch_memory\n",
        "\n",
        "# Instantiate a single Memory buffer\n",
        "memory = Memory()"
      ],
      "execution_count": 10,
      "outputs": []
    },
    {
      "cell_type": "markdown",
      "metadata": {
        "id": "D4YhtPaUVj5m"
      },
      "source": [
        "## 6.3 Reward function\n",
        "\n",
        "We're almost ready to begin the learning algorithm for our agent! The next step is to compute the rewards of our agent as it acts in the environment. Since we (and the agent) is uncertain about if and when the game or task will end (i.e., when the pole will fall), it is useful to emphasize getting rewards **now** rather than later in the future -- this is the idea of discounting. This is a similar concept to discounting money in the case of interest. ecall from lecture, we use reward discount to give more preference at getting rewards now rather than later in the future. The idea of discounting rewards is similar to discounting money in the case of interest.\n",
        "\n",
        "To compute the expected cumulative reward, known as the **return**, at a given timestep in a learning episode, we sum the discounted rewards expected at that time step $t$, within a learning episode, and projecting into the future. We define the return (cumulative reward) at a time step $t$, $R_{t}$ as:\n",
        "\n",
        ">$R_{t}=\\sum_{k=0}^\\infty\\gamma^kr_{t+k}$\n",
        "\n",
        "where  $0 < \\gamma < 1$ is the discount factor and $r_{t}$ is the reward at time step $t$, and the index $k$ increments projection into the future within a single learning episode. Intuitively, you can think of this function as depreciating any rewards received at later time steps, which will force the agent prioritize getting rewards now. Since we can't extend episodes to infinity, in practice the computation will be limited to the number of timesteps in an episode -- after that the reward is assumed to be zero.\n",
        "\n",
        "Take note of the form of this sum -- we'll have to be clever about how we implement this function. Specifically, we'll need to initialize an array of zeros, with length of the number of time steps, and fill it with the real discounted reward values as we loop through the rewards from the episode, which will have been saved in the agents memory. What we ultimately care about is which actions are better relative to other actions taken in that episode -- so, we'll normalize our computed rewards, using the mean and standard deviation of the rewards across the learning episode.\n"
      ]
    },
    {
      "cell_type": "code",
      "metadata": {
        "id": "5_Q2OFYtQ32X"
      },
      "source": [
        "### Reward function ###\n",
        "\n",
        "# Helper function that normalizes an np.array x\n",
        "def normalize(x):\n",
        "  x -= np.mean(x)\n",
        "  x /= np.std(x)\n",
        "  return x.astype(np.float32)\n",
        "\n",
        "# Compute normalized, discounted, cumulative rewards (i.e., return)\n",
        "# Arguments:\n",
        "#   rewards: reward at timesteps in episode\n",
        "#   gamma: discounting factor\n",
        "# Returns:\n",
        "#   normalized discounted reward\n",
        "def discount_rewards(rewards, gamma=0.95): \n",
        "  discounted_rewards = np.zeros_like(rewards)\n",
        "  R = 0\n",
        "  for t in reversed(range(0, len(rewards))):\n",
        "      # update the total discounted reward\n",
        "      R = R * gamma + rewards[t]\n",
        "      discounted_rewards[t] = R\n",
        "      \n",
        "  return normalize(discounted_rewards)"
      ],
      "execution_count": 11,
      "outputs": []
    },
    {
      "cell_type": "markdown",
      "metadata": {
        "id": "QzbY-mjGYcmt"
      },
      "source": [
        "## 6.4 Learning algorithm\n",
        "\n",
        "Now we can start to define the learing algorithm which will be used to reinforce good behaviors of the agent and discourage bad behaviours. In this lab, we will focus on *policy gradient* methods which aim to **maximize** the likelihood of actions that result in large rewards. Equivalently, this means that we want to **minimize** the negative likelihood of these same actions. We achieve this by simply **scaling** (aka multiplying) the probabilities by their associated rewards -- effectively amplifying the likelihood of actions that result in large rewards.\n",
        "\n",
        "Since the log function is monotonically increasing, this means that minimizing **negative likelihood** is equivalent to minimizing **negative log-likelihood**.  Recall that we can easily compute the negative log-likelihood of a discrete action by evaluting its [softmax cross entropy](https://www.tensorflow.org/api_docs/python/tf/nn/sparse_softmax_cross_entropy_with_logits). Like in supervised learning, we can use stochastic gradient descent methods to achieve the desired minimization. \n",
        "\n",
        "Let's begin by defining the loss function."
      ]
    },
    {
      "cell_type": "code",
      "metadata": {
        "id": "fsgZ3IDCY_Zn"
      },
      "source": [
        "### Loss function ###\n",
        "\n",
        "# Arguments:\n",
        "#   logits: network's predictions for actions to take\n",
        "#   actions: the actions the agent took in an episode\n",
        "#   rewards: the rewards the agent received in an episode\n",
        "# Returns:\n",
        "#   loss\n",
        "def compute_loss(logits, actions, rewards): \n",
        "  '''TODO: complete the function call to compute the negative log probabilities'''\n",
        "  neg_logprob = tf.nn.sparse_softmax_cross_entropy_with_logits(\n",
        "     logits= logits, labels= actions)\n",
        "  \n",
        "  '''TODO: scale (multiplty) the negative log probability by the rewards'''\n",
        "  loss = tf.reduce_mean(neg_logprob * rewards)\n",
        "  \n",
        "  return loss"
      ],
      "execution_count": 12,
      "outputs": []
    },
    {
      "cell_type": "markdown",
      "metadata": {
        "id": "Rr5vQ9fqbPpp"
      },
      "source": [
        "Now let's use the loss function to define a training step of our learning algorithm:"
      ]
    },
    {
      "cell_type": "code",
      "metadata": {
        "id": "_50ada7nbZ7L"
      },
      "source": [
        "### Training step (forward and backpropagation) ###\n",
        "\n",
        "def train_step(model, optimizer, observations, actions, discounted_rewards):\n",
        "  with tf.GradientTape() as tape:\n",
        "      # Forward propagate through the agent network\n",
        "      logits = model(observations)\n",
        "\n",
        "      '''TODO: call the compute_loss function to compute the loss'''\n",
        "      loss = compute_loss(logits, actions, discounted_rewards)\n",
        "\n",
        "  # Run backpropagation to minimize the loss using the tape.gradient method\n",
        "  grads = tape.gradient(loss, model.trainable_variables)\n",
        "  optimizer.apply_gradients(zip(grads, model.trainable_variables))\n"
      ],
      "execution_count": 17,
      "outputs": []
    },
    {
      "cell_type": "markdown",
      "metadata": {
        "id": "XsjKXh6BcgjR"
      },
      "source": [
        "## 6.5 Run cartpole!\n",
        "\n",
        "Having had no prior knowledge of the environment, the agent will begin to learn how to balance the pole on the cart based only on the feedback received from the environment! Having defined how our agent can move, how it takes in new observations, and how it updates its state, we'll see how it gradually learns a policy of actions to optimize balancing the pole as long as possible. To do this, we'll track how the rewards evolve as a function of training -- how should the rewards change as training progresses?"
      ]
    },
    {
      "cell_type": "code",
      "metadata": {
        "id": "XmOzc2rrcn8Q",
        "outputId": "c6fd7a69-affa-4ba5-f8cc-426d1a8d8132",
        "colab": {
          "base_uri": "https://localhost:8080/",
          "height": 541
        }
      },
      "source": [
        "### Cartpole training! ###\n",
        "\n",
        "# Learning rate and optimizer\n",
        "learning_rate = 1e-3\n",
        "optimizer = tf.keras.optimizers.Adam(learning_rate)\n",
        "\n",
        "# instantiate cartpole agent\n",
        "cartpole_model = create_cartpole_model()\n",
        "\n",
        "# to track our progress\n",
        "smoothed_reward = mdl.util.LossHistory(smoothing_factor=0.9)\n",
        "plotter = mdl.util.PeriodicPlotter(sec=2, xlabel='Iterations', ylabel='Rewards')\n",
        "\n",
        "if hasattr(tqdm, '_instances'): tqdm._instances.clear() # clear if it exists\n",
        "for i_episode in range(500):\n",
        "\n",
        "  plotter.plot(smoothed_reward.get())\n",
        "\n",
        "  # Restart the environment\n",
        "  observation = env.reset()\n",
        "  memory.clear()\n",
        "\n",
        "  while True:\n",
        "      # using our observation, choose an action and take it in the environment\n",
        "      action = choose_action(cartpole_model, observation)\n",
        "      next_observation, reward, done, info = env.step(action)\n",
        "      # add to memory\n",
        "      memory.add_to_memory(observation, action, reward)\n",
        "      \n",
        "      # is the episode over? did you crash or do so well that you're done?\n",
        "      if done:\n",
        "          # determine total reward and keep a record of this\n",
        "          total_reward = sum(memory.rewards)\n",
        "          smoothed_reward.append(total_reward)\n",
        "          \n",
        "          # initiate training - remember we don't know anything about how the \n",
        "          #   agent is doing until it has crashed!\n",
        "          train_step(cartpole_model, optimizer, \n",
        "                     observations=np.vstack(memory.observations),\n",
        "                     actions=np.array(memory.actions),\n",
        "                     discounted_rewards = discount_rewards(memory.rewards))\n",
        "          \n",
        "          # reset the memory\n",
        "          memory.clear()\n",
        "          break\n",
        "      # update our observatons\n",
        "      observation = next_observation"
      ],
      "execution_count": 18,
      "outputs": [
        {
          "output_type": "display_data",
          "data": {
            "image/png": "[encoded data removed]",
            "text/plain": [
              "<Figure size 432x288 with 1 Axes>"
            ]
          },
          "metadata": {
            "tags": []
          }
        },
        {
          "output_type": "display_data",
          "data": {
            "image/png": "[encoded data removed]",
            "text/plain": [
              "<Figure size 432x288 with 1 Axes>"
            ]
          },
          "metadata": {
            "tags": [],
            "needs_background": "light"
          }
        }
      ]
    },
    {
      "cell_type": "markdown",
      "metadata": {
        "id": "mkcUtGF1VE-K"
      },
      "source": [
        "To get a sense of how our agent did, we can save a video of the trained model working on balancing the pole. Realize that this is a brand new environment that the agent has not seen before!\n",
        "\n",
        "Let's display the saved video to watch how our agent did!\n"
      ]
    },
    {
      "cell_type": "code",
      "metadata": {
        "id": "PAYBkv6Zbk0J",
        "outputId": "7a4570f0-15cd-4152-bc76-b460d1aacd4f",
        "colab": {
          "base_uri": "https://localhost:8080/",
          "height": 438
        }
      },
      "source": [
        "saved_cartpole = mdl.lab3.save_video_of_model(cartpole_model, \"CartPole-v0\")\n",
        "mdl.lab3.play_video(saved_cartpole)"
      ],
      "execution_count": 23,
      "outputs": [
        {
          "output_type": "stream",
          "text": [
            "Successfully saved 200 frames into CartPole-v0.mp4!\n"
          ],
          "name": "stdout"
        },
        {
          "output_type": "execute_result",
          "data": {
            "text/html": [
              "\n",
              "        <video controls >\n",
              "            <source src=\"data:video/mp4;base64,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\" type=\"video/mp4\" />\n",
              "        </video>"
            ],
            "text/plain": [
              "<IPython.core.display.HTML object>"
            ]
          },
          "metadata": {
            "tags": []
          },
          "execution_count": 23
        }
      ]
    },
    {
      "cell_type": "markdown",
      "metadata": {
        "id": "CSbVNDpaVb3_"
      },
      "source": [
        "How does the agent perform? Could you train it for shorter amounts of time and still perform well? Do you think that training longer would help even more? \n",
        "\n",
        "\n",
        "\n",
        "**1.**   The agent performs well for taking the correct actions.\n",
        "\n",
        "**2.**   No, it doesn't perform well with shorter amounts of time.\n",
        "\n",
        "**3.**   Yes, I think that, training longer would make the agent performing well.\n",
        "\n"
      ]
    },
    {
      "cell_type": "markdown",
      "metadata": {
        "id": "3OEdcTe9Yju3"
      },
      "source": [
        "\n",
        "## 6.6 Conclusion\n",
        "\n",
        "That's it! Congratulations on training a cartpole with reinforcement model.\n",
        "\n",
        "Make sure you deliver all the requirements for the submission."
      ]
    }
  ]
}